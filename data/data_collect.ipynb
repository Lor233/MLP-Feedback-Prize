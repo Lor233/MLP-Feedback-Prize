{
 "cells": [
  {
   "cell_type": "markdown",
   "id": "e7cce8a9-f492-4ab7-ab72-d695ce9eaa0e",
   "metadata": {},
   "source": [
    "## Install Kaggle API"
   ]
  },
  {
   "cell_type": "code",
   "execution_count": 3,
   "id": "783cc691-1d76-43ff-98a0-0f2f6d32e5e8",
   "metadata": {},
   "outputs": [
    {
     "name": "stdout",
     "output_type": "stream",
     "text": [
      "Collecting kaggle\n",
      "  Downloading kaggle-1.5.12.tar.gz (58 kB)\n",
      "Requirement already satisfied: six>=1.10 in l:\\anaconda3\\lib\\site-packages (from kaggle) (1.16.0)\n",
      "Requirement already satisfied: certifi in l:\\anaconda3\\lib\\site-packages (from kaggle) (2021.10.8)\n",
      "Requirement already satisfied: python-dateutil in l:\\anaconda3\\lib\\site-packages (from kaggle) (2.8.2)\n",
      "Requirement already satisfied: requests in l:\\anaconda3\\lib\\site-packages (from kaggle) (2.26.0)\n",
      "Requirement already satisfied: tqdm in l:\\anaconda3\\lib\\site-packages (from kaggle) (4.62.3)\n",
      "Collecting python-slugify\n",
      "  Downloading python_slugify-5.0.2-py2.py3-none-any.whl (6.7 kB)\n",
      "Requirement already satisfied: urllib3 in l:\\anaconda3\\lib\\site-packages (from kaggle) (1.26.7)\n",
      "Collecting text-unidecode>=1.3\n",
      "  Downloading text_unidecode-1.3-py2.py3-none-any.whl (78 kB)\n",
      "Requirement already satisfied: idna<4,>=2.5 in l:\\anaconda3\\lib\\site-packages (from requests->kaggle) (3.2)\n",
      "Requirement already satisfied: charset-normalizer~=2.0.0 in l:\\anaconda3\\lib\\site-packages (from requests->kaggle) (2.0.4)\n",
      "Requirement already satisfied: colorama in l:\\anaconda3\\lib\\site-packages (from tqdm->kaggle) (0.4.4)\n",
      "Building wheels for collected packages: kaggle\n",
      "  Building wheel for kaggle (setup.py): started\n",
      "  Building wheel for kaggle (setup.py): finished with status 'done'\n",
      "  Created wheel for kaggle: filename=kaggle-1.5.12-py3-none-any.whl size=73052 sha256=9939d5207a4ce1b98266f0e29ce5cd742fc058c4a9ad9c7eef67a53fb60e392f\n",
      "  Stored in directory: c:\\users\\endto\\appdata\\local\\pip\\cache\\wheels\\29\\da\\11\\144cc25aebdaeb4931b231e25fd34b394e6a5725cbb2f50106\n",
      "Successfully built kaggle\n",
      "Installing collected packages: text-unidecode, python-slugify, kaggle\n",
      "Successfully installed kaggle-1.5.12 python-slugify-5.0.2 text-unidecode-1.3\n"
     ]
    }
   ],
   "source": [
    "!pip3 install kaggle"
   ]
  },
  {
   "cell_type": "markdown",
   "id": "79a1fbc6-0d76-48a6-ba8d-b85d7f0e55dd",
   "metadata": {},
   "source": [
    "## Generate Kaggle Token\n",
    "\n",
    "### Windows\n",
    "\n",
    "kaggle page -> my Account -> Create New API Token -> download kaggle.json to C:\\Users\\\\{user name}\\\\.kaggle"
   ]
  },
  {
   "cell_type": "markdown",
   "id": "2473260e-2f5b-4d48-9ce8-8a6a667cc35b",
   "metadata": {},
   "source": [
    "## Download Dataset"
   ]
  },
  {
   "cell_type": "code",
   "execution_count": 7,
   "id": "06e7376c-8b88-433f-8ca3-bb415bc69fa6",
   "metadata": {},
   "outputs": [
    {
     "name": "stdout",
     "output_type": "stream",
     "text": [
      "Downloading feedback-prize-2021.zip to C:\\Users\\endto\\Dropbox\\Msc Informatics\\Kaggle\\Feedback\\MLP-Feedback-Price\\data\n",
      "\n"
     ]
    },
    {
     "name": "stderr",
     "output_type": "stream",
     "text": [
      "\n",
      "  0%|          | 0.00/32.4M [00:00<?, ?B/s]\n",
      "  3%|▎         | 1.00M/32.4M [00:00<00:07, 4.14MB/s]\n",
      "  6%|▌         | 2.00M/32.4M [00:00<00:07, 4.12MB/s]\n",
      "  9%|▉         | 3.00M/32.4M [00:00<00:07, 4.34MB/s]\n",
      " 12%|█▏        | 4.00M/32.4M [00:00<00:06, 4.39MB/s]\n",
      " 15%|█▌        | 5.00M/32.4M [00:01<00:06, 4.42MB/s]\n",
      " 19%|█▊        | 6.00M/32.4M [00:01<00:06, 4.46MB/s]\n",
      " 22%|██▏       | 7.00M/32.4M [00:01<00:05, 4.50MB/s]\n",
      " 25%|██▍       | 8.00M/32.4M [00:01<00:05, 4.51MB/s]\n",
      " 28%|██▊       | 9.00M/32.4M [00:02<00:05, 4.39MB/s]\n",
      " 31%|███       | 10.0M/32.4M [00:02<00:05, 4.40MB/s]\n",
      " 34%|███▍      | 11.0M/32.4M [00:02<00:05, 4.38MB/s]\n",
      " 37%|███▋      | 12.0M/32.4M [00:02<00:04, 4.37MB/s]\n",
      " 40%|████      | 13.0M/32.4M [00:03<00:04, 4.42MB/s]\n",
      " 43%|████▎     | 14.0M/32.4M [00:03<00:04, 4.44MB/s]\n",
      " 46%|████▋     | 15.0M/32.4M [00:03<00:04, 4.48MB/s]\n",
      " 49%|████▉     | 16.0M/32.4M [00:03<00:03, 4.50MB/s]\n",
      " 53%|█████▎    | 17.0M/32.4M [00:04<00:03, 4.51MB/s]\n",
      " 56%|█████▌    | 18.0M/32.4M [00:04<00:03, 4.52MB/s]\n",
      " 59%|█████▊    | 19.0M/32.4M [00:04<00:03, 4.52MB/s]\n",
      " 62%|██████▏   | 20.0M/32.4M [00:04<00:02, 4.48MB/s]\n",
      " 65%|██████▍   | 21.0M/32.4M [00:04<00:02, 4.50MB/s]\n",
      " 68%|██████▊   | 22.0M/32.4M [00:05<00:02, 4.52MB/s]\n",
      " 71%|███████   | 23.0M/32.4M [00:05<00:02, 4.52MB/s]\n",
      " 74%|███████▍  | 24.0M/32.4M [00:05<00:02, 3.89MB/s]\n",
      " 77%|███████▋  | 25.0M/32.4M [00:06<00:01, 4.04MB/s]\n",
      " 80%|████████  | 26.0M/32.4M [00:06<00:01, 4.18MB/s]\n",
      " 83%|████████▎ | 27.0M/32.4M [00:06<00:01, 4.24MB/s]\n",
      " 86%|████████▋ | 28.0M/32.4M [00:06<00:01, 4.32MB/s]\n",
      " 90%|████████▉ | 29.0M/32.4M [00:06<00:00, 4.33MB/s]\n",
      " 93%|█████████▎| 30.0M/32.4M [00:07<00:00, 4.36MB/s]\n",
      " 96%|█████████▌| 31.0M/32.4M [00:07<00:00, 4.40MB/s]\n",
      " 99%|█████████▉| 32.0M/32.4M [00:07<00:00, 4.45MB/s]\n",
      "100%|██████████| 32.4M/32.4M [00:07<00:00, 4.39MB/s]\n"
     ]
    }
   ],
   "source": [
    "!kaggle competitions download -c feedback-prize-2021"
   ]
  },
  {
   "cell_type": "code",
   "execution_count": null,
   "id": "dbdfeb9e-783a-425c-9d3c-9886a3896668",
   "metadata": {},
   "outputs": [],
   "source": []
  }
 ],
 "metadata": {
  "kernelspec": {
   "display_name": "Python 3 (ipykernel)",
   "language": "python",
   "name": "python3"
  },
  "language_info": {
   "codemirror_mode": {
    "name": "ipython",
    "version": 3
   },
   "file_extension": ".py",
   "mimetype": "text/x-python",
   "name": "python",
   "nbconvert_exporter": "python",
   "pygments_lexer": "ipython3",
   "version": "3.8.11"
  }
 },
 "nbformat": 4,
 "nbformat_minor": 5
}
